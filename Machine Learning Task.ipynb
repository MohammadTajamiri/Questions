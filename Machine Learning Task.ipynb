{
 "cells": [
  {
   "cell_type": "code",
   "execution_count": 1,
   "id": "1353385f",
   "metadata": {},
   "outputs": [],
   "source": [
    "import pandas as pd\n",
    "import numpy as np\n",
    "from sklearn.model_selection import train_test_split\n",
    "from sklearn import metrics\n",
    "from sklearn.feature_extraction.text import CountVectorizer\n",
    "from sklearn.naive_bayes import MultinomialNB\n",
    "from nltk.tokenize import word_tokenize\n",
    "from nltk.corpus import stopwords\n",
    "from sklearn.linear_model import LogisticRegression"
   ]
  },
  {
   "cell_type": "code",
   "execution_count": 6,
   "id": "a14e0ded",
   "metadata": {},
   "outputs": [],
   "source": [
    "data=pd.read_csv(\"data2.csv\")"
   ]
  },
  {
   "cell_type": "code",
   "execution_count": 7,
   "id": "a3e510f9",
   "metadata": {},
   "outputs": [],
   "source": [
    "y=data[\"label\"] #label\n",
    "X=data[\"question\"]"
   ]
  },
  {
   "cell_type": "code",
   "execution_count": 8,
   "id": "d43c87b7",
   "metadata": {},
   "outputs": [],
   "source": [
    "X_train,X_test,y_train,y_test=train_test_split(X,y,test_size=0.3,random_state=50)"
   ]
  },
  {
   "cell_type": "code",
   "execution_count": 9,
   "id": "f5bd710c",
   "metadata": {},
   "outputs": [],
   "source": [
    "count_vectorizer=CountVectorizer(stop_words=\"english\")\n",
    "count_train=count_vectorizer.fit_transform(X_train.values)\n",
    "count_test=count_vectorizer.transform(X_test.values)"
   ]
  },
  {
   "cell_type": "code",
   "execution_count": 10,
   "id": "6d2245b7",
   "metadata": {},
   "outputs": [
    {
     "data": {
      "text/plain": [
       "0.8027638190954773"
      ]
     },
     "execution_count": 10,
     "metadata": {},
     "output_type": "execute_result"
    }
   ],
   "source": [
    "#Logistic Regression\n",
    "LR=LogisticRegression()\n",
    "LR.fit(count_train,y_train)\n",
    "pred=LR.predict(count_test)\n",
    "metrics.accuracy_score(y_test,pred)"
   ]
  },
  {
   "cell_type": "code",
   "execution_count": 11,
   "id": "eb2c2dd1",
   "metadata": {},
   "outputs": [
    {
     "data": {
      "text/plain": [
       "array([[127,  96],\n",
       "       [ 61, 512]], dtype=int64)"
      ]
     },
     "execution_count": 11,
     "metadata": {},
     "output_type": "execute_result"
    }
   ],
   "source": [
    "metrics.confusion_matrix(y_test,pred,labels=[-1,1])"
   ]
  },
  {
   "cell_type": "code",
   "execution_count": 12,
   "id": "6d413264",
   "metadata": {},
   "outputs": [
    {
     "name": "stdout",
     "output_type": "stream",
     "text": [
      "How Many Input Do you want to have?3\n",
      "Let me Check your sentence...1\n",
      "Let me Check your sentence...2\n",
      "Let me Check your sentence...3\n",
      "['1', '2', '3']\n"
     ]
    }
   ],
   "source": [
    "#input and output:\n",
    "x=input(\"How Many Input Do you want to have?\")\n",
    "i=0\n",
    "val=[]\n",
    "while i<int(x):\n",
    "    val.append(input(\"Let me Check your sentence...\"))\n",
    "    i=i+1\n",
    "print(val)"
   ]
  },
  {
   "cell_type": "code",
   "execution_count": 13,
   "id": "af64b3af",
   "metadata": {},
   "outputs": [
    {
     "name": "stdout",
     "output_type": "stream",
     "text": [
      "['1'] grammer is Correct \n",
      "['2'] grammer is Correct \n",
      "['3'] grammer is Correct \n"
     ]
    }
   ],
   "source": [
    "df = pd.DataFrame(val, columns=['Numbers'])\n",
    "count_train=count_vectorizer.transform(df.values.ravel())\n",
    "results=LR.predict(count_train)\n",
    "i=0\n",
    "while i <len(df.values):\n",
    "    if results[i] == 1:\n",
    "        print(f\"{df.values[i]} grammer is Correct \" )\n",
    "    else:\n",
    "        print(f\"{df.values[i]} grammer is InCorrect \" )\n",
    "    i=i+1"
   ]
  },
  {
   "cell_type": "code",
   "execution_count": null,
   "id": "1095f649",
   "metadata": {},
   "outputs": [],
   "source": []
  }
 ],
 "metadata": {
  "kernelspec": {
   "display_name": "Python 3",
   "language": "python",
   "name": "python3"
  },
  "language_info": {
   "codemirror_mode": {
    "name": "ipython",
    "version": 3
   },
   "file_extension": ".py",
   "mimetype": "text/x-python",
   "name": "python",
   "nbconvert_exporter": "python",
   "pygments_lexer": "ipython3",
   "version": "3.8.8"
  }
 },
 "nbformat": 4,
 "nbformat_minor": 5
}
